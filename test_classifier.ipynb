{
 "cells": [
  {
   "cell_type": "markdown",
   "id": "6c3b9a3a",
   "metadata": {},
   "source": [
    "### Import Necessary Libraries"
   ]
  },
  {
   "cell_type": "code",
   "execution_count": 1,
   "id": "7a40df7d",
   "metadata": {},
   "outputs": [
    {
     "name": "stderr",
     "output_type": "stream",
     "text": [
      "C:\\Users\\kommi\\anaconda3\\lib\\site-packages\\scipy\\__init__.py:146: UserWarning: A NumPy version >=1.16.5 and <1.23.0 is required for this version of SciPy (detected version 1.26.1\n",
      "  warnings.warn(f\"A NumPy version >={np_minversion} and <{np_maxversion}\"\n"
     ]
    }
   ],
   "source": [
    "import joblib\n",
    "import re\n",
    "from nltk.stem import WordNetLemmatizer\n",
    "from nltk.corpus import stopwords\n",
    "import nltk"
   ]
  },
  {
   "cell_type": "markdown",
   "id": "509729b6",
   "metadata": {},
   "source": [
    "Import reuquired extra requirments"
   ]
  },
  {
   "cell_type": "code",
   "execution_count": 2,
   "id": "2c5b880b",
   "metadata": {},
   "outputs": [
    {
     "name": "stderr",
     "output_type": "stream",
     "text": [
      "[nltk_data] Downloading package stopwords to\n",
      "[nltk_data]     C:\\Users\\kommi\\AppData\\Roaming\\nltk_data...\n",
      "[nltk_data]   Package stopwords is already up-to-date!\n",
      "[nltk_data] Downloading package wordnet to\n",
      "[nltk_data]     C:\\Users\\kommi\\AppData\\Roaming\\nltk_data...\n",
      "[nltk_data]   Package wordnet is already up-to-date!\n",
      "[nltk_data] Downloading package omw-1.4 to\n",
      "[nltk_data]     C:\\Users\\kommi\\AppData\\Roaming\\nltk_data...\n",
      "[nltk_data]   Package omw-1.4 is already up-to-date!\n"
     ]
    },
    {
     "data": {
      "text/plain": [
       "True"
      ]
     },
     "execution_count": 2,
     "metadata": {},
     "output_type": "execute_result"
    }
   ],
   "source": [
    "nltk.download('stopwords')\n",
    "nltk.download('wordnet')\n",
    "nltk.download('omw-1.4')"
   ]
  },
  {
   "cell_type": "markdown",
   "id": "3e7ab51b",
   "metadata": {},
   "source": [
    "set the stop words to not iterate again and again in for loop later"
   ]
  },
  {
   "cell_type": "code",
   "execution_count": 3,
   "id": "4d8e4d9c",
   "metadata": {},
   "outputs": [],
   "source": [
    "stop_words = set(stopwords.words('english'))"
   ]
  },
  {
   "cell_type": "markdown",
   "id": "f1820be8",
   "metadata": {},
   "source": [
    "intialise lemmatizer"
   ]
  },
  {
   "cell_type": "code",
   "execution_count": 4,
   "id": "6cfb7790",
   "metadata": {},
   "outputs": [],
   "source": [
    "lem=WordNetLemmatizer()"
   ]
  },
  {
   "cell_type": "markdown",
   "id": "55c177c5",
   "metadata": {},
   "source": [
    "### Load trained models "
   ]
  },
  {
   "cell_type": "code",
   "execution_count": 5,
   "id": "b72246f2",
   "metadata": {},
   "outputs": [],
   "source": [
    "# Load the trained models\n",
    "loaded_spam_detect_model_NB = joblib.load('spam_detect_model_NB.joblib')\n",
    "loaded_spam_detect_model_svm = joblib.load('spam_detect_model_svm.joblib')\n",
    "loaded_cv = joblib.load('tfidf_vectorizer.joblib')"
   ]
  },
  {
   "cell_type": "code",
   "execution_count": 6,
   "id": "17cbf14f",
   "metadata": {},
   "outputs": [],
   "source": [
    "new_messages = [\"Get a free iPhone now!\", \"Congratulations, you've won a prize! Claim now!\"]"
   ]
  },
  {
   "cell_type": "markdown",
   "id": "8deffea5",
   "metadata": {},
   "source": [
    "### Pre-processing Text"
   ]
  },
  {
   "cell_type": "code",
   "execution_count": 7,
   "id": "f43afe5a",
   "metadata": {},
   "outputs": [],
   "source": [
    "# Preprocess the new data\n",
    "new_corpus = []\n",
    "for i in range(0, len(new_messages)):\n",
    "    review = re.sub('[^a-zA-Z]', ' ', new_messages[i])\n",
    "    review = review.lower()\n",
    "    review = review.split()\n",
    "    review = [lem.lemmatize(word) for word in review if word not in stop_words]\n",
    "    review = ' '.join(review)\n",
    "    new_corpus.append(review)"
   ]
  },
  {
   "cell_type": "code",
   "execution_count": 8,
   "id": "4fee3334",
   "metadata": {},
   "outputs": [
    {
     "name": "stdout",
     "output_type": "stream",
     "text": [
      "['get free iphone', 'congratulation prize claim']\n"
     ]
    }
   ],
   "source": [
    "print(new_corpus)"
   ]
  },
  {
   "cell_type": "markdown",
   "id": "1cfcdea3",
   "metadata": {},
   "source": [
    "#### Using bag of word mechanism to vectorize the words"
   ]
  },
  {
   "cell_type": "code",
   "execution_count": 9,
   "id": "efd4246a",
   "metadata": {},
   "outputs": [],
   "source": [
    "# Transform the new data using the loaded TF-IDF vectorizer\n",
    "new_X = loaded_cv.transform(new_corpus).toarray()"
   ]
  },
  {
   "cell_type": "markdown",
   "id": "64abdd8a",
   "metadata": {},
   "source": [
    "#### Predict outcome of classification of each sentence"
   ]
  },
  {
   "cell_type": "code",
   "execution_count": 10,
   "id": "424b9374",
   "metadata": {},
   "outputs": [
    {
     "name": "stdout",
     "output_type": "stream",
     "text": [
      "Predictions using Multinomial NB Model: ['ham', 'spam']\n",
      "Predictions using SVM Model: ['ham', 'spam']\n"
     ]
    }
   ],
   "source": [
    "new_y_pred_NB = loaded_spam_detect_model_NB.predict(new_X)\n",
    "print(\"Predictions using Multinomial NB Model:\", [\"spam\" if label == 1 else \"ham\" for label in new_y_pred_NB])\n",
    "\n",
    "# Test the SVM model\n",
    "new_y_pred_svm = loaded_spam_detect_model_svm.predict(new_X)\n",
    "print(\"Predictions using SVM Model:\", [\"spam\" if label == 1 else \"ham\" for label in new_y_pred_svm])"
   ]
  },
  {
   "cell_type": "markdown",
   "id": "46c3f43e",
   "metadata": {},
   "source": [
    "After each E-mail is separated into multiple sentences , models are predicting if that particular sentences are spam or not , but no final output"
   ]
  },
  {
   "cell_type": "markdown",
   "id": "16bc945a",
   "metadata": {},
   "source": [
    "Using both models and thresold values to classify if E-mail is spam if it has more than 30% of its sentences classified as spam by ml models"
   ]
  },
  {
   "cell_type": "code",
   "execution_count": 11,
   "id": "a5363ea9",
   "metadata": {},
   "outputs": [],
   "source": [
    "# Combine predictions for each sentence\n",
    "combined_predictions = ['spam' if (new_y_pred_NB[i] == 1 or new_y_pred_svm[i] == 1) else 'ham' for i in range(len(new_y_pred_NB))]"
   ]
  },
  {
   "cell_type": "markdown",
   "id": "119a4396",
   "metadata": {},
   "source": [
    "Calculate the percentage of sentences classified as spam"
   ]
  },
  {
   "cell_type": "code",
   "execution_count": 12,
   "id": "72a450aa",
   "metadata": {},
   "outputs": [],
   "source": [
    "percentage_spam = combined_predictions.count('spam') / len(combined_predictions)"
   ]
  },
  {
   "cell_type": "markdown",
   "id": "0ad0d412",
   "metadata": {},
   "source": [
    "Classify the entire paragraph or email based on the percentage threshold"
   ]
  },
  {
   "cell_type": "code",
   "execution_count": 13,
   "id": "b9b9d250",
   "metadata": {},
   "outputs": [
    {
     "name": "stdout",
     "output_type": "stream",
     "text": [
      "Final Classification: spam\n"
     ]
    }
   ],
   "source": [
    "final_classification = 'spam' if percentage_spam >= 0.3 else 'ham'\n",
    "\n",
    "print(\"Final Classification:\", final_classification)"
   ]
  },
  {
   "cell_type": "markdown",
   "id": "d27e01f9",
   "metadata": {},
   "source": [
    "#### CODE BY : @AJAY"
   ]
  },
  {
   "cell_type": "code",
   "execution_count": null,
   "id": "75b56a59",
   "metadata": {},
   "outputs": [],
   "source": []
  }
 ],
 "metadata": {
  "kernelspec": {
   "display_name": "Python 3 (ipykernel)",
   "language": "python",
   "name": "python3"
  },
  "language_info": {
   "codemirror_mode": {
    "name": "ipython",
    "version": 3
   },
   "file_extension": ".py",
   "mimetype": "text/x-python",
   "name": "python",
   "nbconvert_exporter": "python",
   "pygments_lexer": "ipython3",
   "version": "3.9.12"
  }
 },
 "nbformat": 4,
 "nbformat_minor": 5
}
